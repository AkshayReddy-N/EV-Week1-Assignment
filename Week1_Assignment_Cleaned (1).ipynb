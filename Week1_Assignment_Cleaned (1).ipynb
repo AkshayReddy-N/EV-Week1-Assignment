{
 "cells": [
  {
   "cell_type": "markdown",
   "id": "416f2041",
   "metadata": {},
   "source": [
    "# Week 1 Assignment: Electric Vehicle Data Analysis\n",
    "\n",
    "This notebook performs data cleaning, outlier handling, feature engineering, and trains a Random Forest model on Electric Vehicle registration data."
   ]
  },
  {
   "cell_type": "markdown",
   "id": "efe33f30",
   "metadata": {},
   "source": [
    "## 1. Import Libraries"
   ]
  },
  {
   "cell_type": "code",
   "execution_count": null,
   "id": "2a03027b",
   "metadata": {},
   "outputs": [],
   "source": [
    "import joblib\n",
    "import numpy as np\n",
    "import pandas as pd\n",
    "import seaborn as sns\n",
    "import matplotlib.pyplot as plt\n",
    "from sklearn.preprocessing import LabelEncoder\n",
    "from sklearn.ensemble import RandomForestRegressor\n",
    "from sklearn.model_selection import train_test_split, RandomizedSearchCV\n",
    "from sklearn.metrics import mean_absolute_error, mean_squared_error, r2_score\n",
    "\n",
    "from google.colab import files\n"
   ]
  },
  {
   "cell_type": "markdown",
   "id": "ccdd16a9",
   "metadata": {},
   "source": [
    "## 2. Upload Dataset"
   ]
  },
  {
   "cell_type": "code",
   "execution_count": null,
   "id": "6c111d04",
   "metadata": {},
   "outputs": [],
   "source": [
    "uploaded = files.upload()\n",
    "df = pd.read_csv(\"3ae033f50fa345051652.csv\")\n",
    "df.head()"
   ]
  },
  {
   "cell_type": "markdown",
   "id": "d3121126",
   "metadata": {},
   "source": [
    "## 3. Data Overview"
   ]
  },
  {
   "cell_type": "code",
   "execution_count": null,
   "id": "4b78c33d",
   "metadata": {},
   "outputs": [],
   "source": [
    "print(\"Shape:\", df.shape)\n",
    "df.info()\n",
    "print(\"Missing values:\\n\", df.isnull().sum())"
   ]
  },
  {
   "cell_type": "markdown",
   "id": "6b752161",
   "metadata": {},
   "source": [
    "## 4. Handling Outliers in 'Percent Electric Vehicles'"
   ]
  },
  {
   "cell_type": "code",
   "execution_count": null,
   "id": "d05e6ada",
   "metadata": {},
   "outputs": [],
   "source": [
    "Q1 = df['Percent Electric Vehicles'].quantile(0.25)\n",
    "Q3 = df['Percent Electric Vehicles'].quantile(0.75)\n",
    "IQR = Q3 - Q1\n",
    "lower_bound = Q1 - 1.5 * IQR\n",
    "upper_bound = Q3 + 1.5 * IQR\n",
    "\n",
    "# Print outlier bounds and count\n",
    "print('Lower bound:', lower_bound)\n",
    "print('Upper bound:', upper_bound)\n",
    "outliers = df[(df['Percent Electric Vehicles'] < lower_bound) | (df['Percent Electric Vehicles'] > upper_bound)]\n",
    "print(\"Outliers count:\", outliers.shape[0])\n",
    "\n",
    "# Cap the outliers\n",
    "df['Percent Electric Vehicles'] = np.where(df['Percent Electric Vehicles'] > upper_bound, upper_bound,\n",
    "                                           np.where(df['Percent Electric Vehicles'] < lower_bound, lower_bound, df['Percent Electric Vehicles']))"
   ]
  },
  {
   "cell_type": "markdown",
   "id": "e114f756",
   "metadata": {},
   "source": [
    "## 5. Handling Missing Values"
   ]
  },
  {
   "cell_type": "code",
   "execution_count": null,
   "id": "b1ad71b5",
   "metadata": {},
   "outputs": [],
   "source": [
    "# Convert 'Date' column to datetime\n",
    "df['Date'] = pd.to_datetime(df['Date'], errors='coerce')\n",
    "df = df[df['Date'].notnull()]\n",
    "\n",
    "# Remove rows with missing target\n",
    "df = df[df['Electric Vehicle (EV) Total'].notnull()]\n",
    "\n",
    "# Fill other missing values\n",
    "df['County'] = df['County'].fillna('Unknown')\n",
    "df['State'] = df['State'].fillna('Unknown')\n",
    "print(\"Missing after fill:\\n\", df[['County', 'State']].isnull().sum())"
   ]
  },
  {
   "cell_type": "markdown",
   "id": "9ceebe71",
   "metadata": {},
   "source": [
    "## 6. Feature Engineering"
   ]
  },
  {
   "cell_type": "code",
   "execution_count": null,
   "id": "ebf642b0",
   "metadata": {},
   "outputs": [],
   "source": [
    "# Example: Label encode categorical columns if needed\n",
    "le = LabelEncoder()\n",
    "df['County'] = le.fit_transform(df['County'])\n",
    "df['State'] = le.fit_transform(df['State'])"
   ]
  },
  {
   "cell_type": "markdown",
   "id": "89db54f5",
   "metadata": {},
   "source": [
    "## 7. Model Building - Random Forest"
   ]
  },
  {
   "cell_type": "code",
   "execution_count": null,
   "id": "7bd5ca67",
   "metadata": {},
   "outputs": [],
   "source": [
    "X = df.drop(['Electric Vehicle (EV) Total', 'Date'], axis=1)\n",
    "y = df['Electric Vehicle (EV) Total']\n",
    "\n",
    "X_train, X_test, y_train, y_test = train_test_split(X, y, test_size=0.2, random_state=42)\n",
    "\n",
    "model = RandomForestRegressor()\n",
    "model.fit(X_train, y_train)\n",
    "\n",
    "y_pred = model.predict(X_test)"
   ]
  },
  {
   "cell_type": "markdown",
   "id": "ed6cfdd4",
   "metadata": {},
   "source": [
    "## 8. Evaluation Metrics"
   ]
  },
  {
   "cell_type": "code",
   "execution_count": null,
   "id": "f38020e4",
   "metadata": {},
   "outputs": [],
   "source": [
    "mae = mean_absolute_error(y_test, y_pred)\n",
    "mse = mean_squared_error(y_test, y_pred)\n",
    "rmse = np.sqrt(mse)\n",
    "r2 = r2_score(y_test, y_pred)\n",
    "\n",
    "print(f'MAE: {mae}\\nMSE: {mse}\\nRMSE: {rmse}\\nR2 Score: {r2}')"
   ]
  },
  {
   "cell_type": "markdown",
   "id": "67dc5134",
   "metadata": {},
   "source": [
    "## 9. Save the Model"
   ]
  },
  {
   "cell_type": "code",
   "execution_count": null,
   "id": "109f8b3c",
   "metadata": {},
   "outputs": [],
   "source": [
    "joblib.dump(model, 'rf_model.joblib')"
   ]
  }
 ],
 "metadata": {},
 "nbformat": 4,
 "nbformat_minor": 5
}
